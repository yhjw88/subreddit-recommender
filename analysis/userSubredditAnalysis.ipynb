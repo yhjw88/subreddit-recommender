{
 "cells": [
  {
   "cell_type": "markdown",
   "metadata": {},
   "source": [
    "##### Imports"
   ]
  },
  {
   "cell_type": "code",
   "execution_count": 1,
   "metadata": {},
   "outputs": [
    {
     "data": {
      "text/plain": [
       "<module 'tools' from 'tools.pyc'>"
      ]
     },
     "execution_count": 1,
     "metadata": {},
     "output_type": "execute_result"
    }
   ],
   "source": [
    "import collections\n",
    "import gc\n",
    "import json\n",
    "from matplotlib import pyplot as plt\n",
    "import numpy as np\n",
    "import random\n",
    "import tools\n",
    "reload(tools)\n",
    "# gc.collect()"
   ]
  },
  {
   "cell_type": "markdown",
   "metadata": {},
   "source": [
    "##### Load data"
   ]
  },
  {
   "cell_type": "code",
   "execution_count": 3,
   "metadata": {
    "collapsed": true
   },
   "outputs": [],
   "source": [
    "# Load filters\n",
    "userIdsToFilter = set()\n",
    "# tools.readUserIdFilters(\"../bigData/analysis/oneSubredditUsers\", userIdsToFilter)\n",
    "subredditIdToName = tools.read_subreddit_names(\"../bigData/subredditIdToName\")"
   ]
  },
  {
   "cell_type": "code",
   "execution_count": 3,
   "metadata": {},
   "outputs": [
    {
     "name": "stdout",
     "output_type": "stream",
     "text": [
      "Processing ../bigData/userSubreddit/RC_2018-01\n",
      "Processed 1000000\n",
      "Processed 2000000\n",
      "Processed 3000000\n",
      "Processed 4000000\n",
      "Processed 5000000\n",
      "Processed 6000000\n",
      "Processed 7000000\n",
      "Processed 8000000\n",
      "Processed 9000000\n",
      "Processed 10000000\n",
      "Processed 11000000\n",
      "Processed 12000000\n",
      "Processed 13000000\n",
      "Processed 14000000\n",
      "Processed 15000000\n",
      "Processed 16000000\n",
      "Processed 17000000\n",
      "Processing ../bigData/userSubreddit/RC_2018-02\n",
      "Processed 1000000\n",
      "Processed 2000000\n",
      "Processed 3000000\n",
      "Processed 4000000\n",
      "Processed 5000000\n",
      "Processed 6000000\n",
      "Processed 7000000\n",
      "Processed 8000000\n",
      "Processed 9000000\n",
      "Processed 10000000\n",
      "Processed 11000000\n",
      "Processed 12000000\n",
      "Processed 13000000\n",
      "Processed 14000000\n",
      "Processed 15000000\n",
      "Processed 16000000\n",
      "Processed 17000000\n",
      "Processing ../bigData/userSubreddit/RC_2018-03\n",
      "Processed 1000000\n",
      "Processed 2000000\n",
      "Processed 3000000\n",
      "Processed 4000000\n",
      "Processed 5000000\n",
      "Processed 6000000\n",
      "Processed 7000000\n",
      "Processed 8000000\n",
      "Processed 9000000\n",
      "Processed 10000000\n",
      "Processed 11000000\n",
      "Processed 12000000\n",
      "Processed 13000000\n",
      "Processed 14000000\n",
      "Processed 15000000\n",
      "Processed 16000000\n",
      "Processed 17000000\n",
      "Processed 18000000\n",
      "Processing ../bigData/userSubreddit/RC_2018-04\n",
      "Processed 1000000\n",
      "Processed 2000000\n",
      "Processed 3000000\n",
      "Processed 4000000\n",
      "Processed 5000000\n",
      "Processed 6000000\n",
      "Processed 7000000\n",
      "Processed 8000000\n",
      "Processed 9000000\n",
      "Processed 10000000\n",
      "Processed 11000000\n",
      "Processed 12000000\n",
      "Processed 13000000\n",
      "Processed 14000000\n",
      "Processed 15000000\n",
      "Processed 16000000\n",
      "Processed 17000000\n",
      "Processed 18000000\n",
      "Processing ../bigData/userSubreddit/RC_2018-05\n",
      "Processed 1000000\n",
      "Processed 2000000\n",
      "Processed 3000000\n",
      "Processed 4000000\n",
      "Processed 5000000\n",
      "Processed 6000000\n",
      "Processed 7000000\n",
      "Processed 8000000\n",
      "Processed 9000000\n",
      "Processed 10000000\n",
      "Processed 11000000\n",
      "Processed 12000000\n",
      "Processed 13000000\n",
      "Processed 14000000\n",
      "Processed 15000000\n",
      "Processed 16000000\n",
      "Processed 17000000\n",
      "Processed 18000000\n",
      "Processed 19000000\n"
     ]
    }
   ],
   "source": [
    "# Loads months 1 to 5\n",
    "infilenamePrefix = \"../bigData/userSubreddit/RC_2018-0\"\n",
    "userIdToOldSubreddits = collections.defaultdict(set)\n",
    "# userIdToOldSubreddits = collections.defaultdict(lambda: collections.defaultdict(int))\n",
    "for i in range(1, 6):\n",
    "    infilename = infilenamePrefix + str(i)\n",
    "    # tools.getUserIdToSubreddits(infilename, userIdToOldSubreddits, subredditIdToName, userIdsToFilter, True)\n",
    "    tools.getUserIdToSubreddits(infilename, userIdToOldSubreddits, subredditIdToName, userIdsToFilter, False)\n"
   ]
  },
  {
   "cell_type": "code",
   "execution_count": 4,
   "metadata": {},
   "outputs": [
    {
     "name": "stdout",
     "output_type": "stream",
     "text": [
      "Processing ../bigData/userSubreddit/RC_2018-06\n",
      "Processed 1000000\n",
      "Processed 2000000\n",
      "Processed 3000000\n",
      "Processed 4000000\n",
      "Processed 5000000\n",
      "Processed 6000000\n",
      "Processed 7000000\n",
      "Processed 8000000\n",
      "Processed 9000000\n",
      "Processed 10000000\n",
      "Processed 11000000\n",
      "Processed 12000000\n",
      "Processed 13000000\n",
      "Processed 14000000\n",
      "Processed 15000000\n",
      "Processed 16000000\n",
      "Processed 17000000\n",
      "Processed 18000000\n",
      "Processed 19000000\n",
      "Number of users: 4709158\n"
     ]
    }
   ],
   "source": [
    "# Loads month 6\n",
    "infilename = \"../bigData/userSubreddit/RC_2018-06\"\n",
    "# userIdToNewSubreddits = collections.defaultdict(set)\n",
    "userIdToNewSubreddits = collections.defaultdict(lambda: collections.defaultdict(int))\n",
    "tools.getUserIdToSubreddits(infilename, userIdToNewSubreddits, subredditIdToName, userIdsToFilter, True)\n",
    "print \"Number of users: {}\".format(len(userIdToNewSubreddits))\n",
    "pass"
   ]
  },
  {
   "cell_type": "code",
   "execution_count": 2,
   "metadata": {},
   "outputs": [
    {
     "name": "stdout",
     "output_type": "stream",
     "text": [
      "Processing ../bigData/analysis/inputGraph\n",
      "Processed 1000000\n",
      "Processed 2000000\n",
      "Processed 3000000\n",
      "Processed 4000000\n",
      "Processed 5000000\n",
      "Processed 6000000\n",
      "Processed 7000000\n",
      "Processed 8000000\n",
      "Processed 9000000\n",
      "Processed 10000000\n",
      "Processed 11000000\n",
      "Processed 12000000\n",
      "Processed 13000000\n",
      "Processed 14000000\n",
      "Processed 15000000\n",
      "Processed 16000000\n",
      "Processed 17000000\n",
      "Processed 18000000\n",
      "Processed 19000000\n",
      "Processed 20000000\n",
      "Processed 21000000\n",
      "Processed 22000000\n",
      "Processed 23000000\n",
      "Processed 24000000\n",
      "Processed 25000000\n",
      "Processed 26000000\n",
      "Processed 27000000\n",
      "Processed 28000000\n",
      "Processed 29000000\n",
      "Processed 30000000\n",
      "Processed 31000000\n",
      "Processed 32000000\n",
      "Processed 33000000\n",
      "Processed 34000000\n",
      "Processed 35000000\n",
      "Processed 36000000\n",
      "Processed 37000000\n",
      "Processed 38000000\n",
      "Processed 39000000\n",
      "Processed 40000000\n",
      "Processed 41000000\n",
      "Processed 42000000\n",
      "Processed 43000000\n",
      "Processed 44000000\n",
      "Processed 45000000\n",
      "Processed 46000000\n",
      "Processed 47000000\n",
      "Processed 48000000\n",
      "Processed 49000000\n",
      "Processed 50000000\n",
      "Processed 51000000\n",
      "Processed 52000000\n",
      "Processed 53000000\n",
      "Processed 54000000\n",
      "Processed 55000000\n"
     ]
    }
   ],
   "source": [
    "# Load inputGraph\n",
    "userIdToOldSubreddits = collections.defaultdict(set)\n",
    "tools.getUserIdToSubreddits(\"../bigData/analysis/inputGraph\", userIdToOldSubreddits)\n",
    "pass"
   ]
  },
  {
   "cell_type": "code",
   "execution_count": 6,
   "metadata": {},
   "outputs": [
    {
     "name": "stdout",
     "output_type": "stream",
     "text": [
      "3258157 shared users between old and new\n"
     ]
    }
   ],
   "source": [
    "userCounter = 0\n",
    "for userId in userIdToNewSubreddits:\n",
    "    if userId in userIdToOldSubreddits:\n",
    "        userCounter += 1\n",
    "print \"{} shared users between old and new\".format(userCounter)"
   ]
  },
  {
   "cell_type": "markdown",
   "metadata": {},
   "source": [
    "##### Old New Analysis"
   ]
  },
  {
   "cell_type": "code",
   "execution_count": 4,
   "metadata": {},
   "outputs": [
    {
     "name": "stdout",
     "output_type": "stream",
     "text": [
      "Number of users: 5374426\n",
      "Number of subreddits: 143888\n"
     ]
    }
   ],
   "source": [
    "# Simple stats\n",
    "print \"Number of users: {}\".format(len(userIdToOldSubreddits))\n",
    "allSubreddits = set()\n",
    "for _, subreddits in userIdToOldSubreddits.iteritems():\n",
    "    allSubreddits.update(subreddits)\n",
    "print \"Number of subreddits: {}\".format(len(allSubreddits))\n",
    "allSubreddits = set()"
   ]
  },
  {
   "cell_type": "code",
   "execution_count": 8,
   "metadata": {},
   "outputs": [
    {
     "name": "stderr",
     "output_type": "stream",
     "text": [
      "\n",
      "  0%|          | 0/5374426 [00:00<?, ?it/s]\u001b[A\n",
      "  1%|          | 33648/5374426 [00:00<00:15, 333899.43it/s]\u001b[A\n",
      "  1%|          | 64883/5374426 [00:00<00:16, 323080.79it/s]\u001b[A\n",
      "  2%|▏         | 97375/5374426 [00:00<00:16, 323511.52it/s]\u001b[A\n",
      "  2%|▏         | 130117/5374426 [00:00<00:16, 324610.97it/s]\u001b[A\n",
      "  3%|▎         | 163822/5374426 [00:00<00:15, 327067.74it/s]\u001b[A\n",
      "  4%|▎         | 198227/5374426 [00:00<00:15, 329928.58it/s]\u001b[A\n",
      "  4%|▍         | 230197/5374426 [00:00<00:15, 328501.85it/s]\u001b[A\n",
      "  5%|▍         | 262315/5374426 [00:00<00:15, 327549.86it/s]\u001b[A\n",
      "  5%|▌         | 294818/5374426 [00:00<00:15, 327245.06it/s]\u001b[A\n",
      "  6%|▌         | 326645/5374426 [00:01<00:15, 326360.45it/s]\u001b[A\n",
      "  7%|▋         | 358654/5374426 [00:01<00:15, 325827.58it/s]\u001b[A\n",
      "  7%|▋         | 392248/5374426 [00:01<00:15, 326630.03it/s]\u001b[A\n",
      "  8%|▊         | 425739/5374426 [00:01<00:15, 327260.96it/s]\u001b[A\n",
      "  9%|▊         | 459078/5374426 [00:01<00:14, 327710.64it/s]\u001b[A\n",
      "  9%|▉         | 494764/5374426 [00:01<00:14, 329658.07it/s]\u001b[A\n",
      " 10%|▉         | 528446/5374426 [00:01<00:14, 326877.40it/s]\u001b[A\n",
      " 10%|█         | 560753/5374426 [00:01<00:14, 322817.32it/s]\u001b[A\n",
      " 11%|█         | 591410/5374426 [00:01<00:14, 319555.00it/s]\u001b[A\n",
      " 12%|█▏        | 624504/5374426 [00:01<00:14, 320145.02it/s]\u001b[A\n",
      " 12%|█▏        | 655118/5374426 [00:02<00:14, 318534.77it/s]\u001b[A\n",
      " 13%|█▎        | 688660/5374426 [00:02<00:14, 319288.10it/s]\u001b[A\n",
      " 13%|█▎        | 721314/5374426 [00:02<00:14, 319604.61it/s]\u001b[A\n",
      " 14%|█▍        | 757695/5374426 [00:02<00:14, 321486.19it/s]\u001b[A\n",
      " 15%|█▍        | 790717/5374426 [00:02<00:14, 319204.85it/s]\u001b[A\n",
      " 15%|█▌        | 822063/5374426 [00:02<00:14, 317439.18it/s]\u001b[A\n",
      " 16%|█▌        | 855864/5374426 [00:02<00:14, 318217.82it/s]\u001b[A\n",
      " 17%|█▋        | 888654/5374426 [00:02<00:14, 318536.25it/s]\u001b[A\n",
      " 17%|█▋        | 924216/5374426 [00:02<00:13, 319832.35it/s]\u001b[A\n",
      " 18%|█▊        | 957134/5374426 [00:02<00:13, 320042.78it/s]\u001b[A\n",
      " 18%|█▊        | 989959/5374426 [00:03<00:13, 319438.79it/s]\u001b[A\n",
      " 19%|█▉        | 1022013/5374426 [00:03<00:13, 319109.23it/s]\u001b[A\n",
      " 20%|█▉        | 1053729/5374426 [00:03<00:13, 318207.85it/s]\u001b[A\n",
      " 20%|██        | 1085440/5374426 [00:03<00:13, 318160.36it/s]\u001b[A\n",
      " 21%|██        | 1116627/5374426 [00:03<00:13, 315745.24it/s]\u001b[A\n",
      " 21%|██▏       | 1145938/5374426 [00:03<00:13, 314457.99it/s]\u001b[A\n",
      " 22%|██▏       | 1174639/5374426 [00:03<00:13, 313471.88it/s]\u001b[A\n",
      " 23%|██▎       | 1209249/5374426 [00:03<00:13, 314309.94it/s]\u001b[A\n",
      " 23%|██▎       | 1239526/5374426 [00:03<00:13, 313488.11it/s]\u001b[A\n",
      " 24%|██▎       | 1272080/5374426 [00:04<00:13, 313775.81it/s]\u001b[A\n",
      " 24%|██▍       | 1302949/5374426 [00:04<00:12, 313644.76it/s]\u001b[A\n",
      " 25%|██▍       | 1337417/5374426 [00:04<00:12, 314380.26it/s]\u001b[A\n",
      " 26%|██▌       | 1373390/5374426 [00:04<00:12, 315427.67it/s]\u001b[A\n",
      " 26%|██▌       | 1406439/5374426 [00:04<00:12, 314572.40it/s]\u001b[A\n",
      " 27%|██▋       | 1440104/5374426 [00:04<00:12, 315068.48it/s]\u001b[A\n",
      " 27%|██▋       | 1472338/5374426 [00:04<00:12, 314911.01it/s]\u001b[A\n",
      " 28%|██▊       | 1504150/5374426 [00:04<00:12, 314927.35it/s]\u001b[A\n",
      " 29%|██▊       | 1535888/5374426 [00:04<00:12, 314636.37it/s]\u001b[A\n",
      " 29%|██▉       | 1567160/5374426 [00:04<00:12, 314383.70it/s]\u001b[A\n",
      " 30%|██▉       | 1598108/5374426 [00:05<00:12, 313961.88it/s]\u001b[A\n",
      " 30%|███       | 1632160/5374426 [00:05<00:11, 314502.18it/s]\u001b[A\n",
      " 31%|███       | 1665958/5374426 [00:05<00:11, 314946.50it/s]\u001b[A\n",
      " 32%|███▏      | 1700326/5374426 [00:05<00:11, 315480.10it/s]\u001b[A\n",
      " 32%|███▏      | 1733213/5374426 [00:05<00:11, 315236.02it/s]\u001b[A\n",
      " 33%|███▎      | 1765321/5374426 [00:05<00:11, 315028.65it/s]\u001b[A\n",
      " 33%|███▎      | 1796936/5374426 [00:05<00:11, 314769.63it/s]\u001b[A\n",
      " 34%|███▍      | 1830972/5374426 [00:05<00:11, 315194.44it/s]\u001b[A\n",
      " 35%|███▍      | 1863131/5374426 [00:05<00:11, 315308.54it/s]\u001b[A\n",
      " 35%|███▌      | 1899899/5374426 [00:06<00:10, 316189.25it/s]\u001b[A\n",
      " 36%|███▌      | 1935430/5374426 [00:06<00:10, 316824.06it/s]\u001b[A\n",
      " 37%|███▋      | 1969518/5374426 [00:06<00:10, 317085.72it/s]\u001b[A\n",
      " 37%|███▋      | 2003360/5374426 [00:06<00:10, 317387.10it/s]\u001b[A\n",
      " 38%|███▊      | 2037136/5374426 [00:06<00:10, 317686.34it/s]\u001b[A\n",
      " 39%|███▊      | 2070873/5374426 [00:06<00:10, 317498.43it/s]\u001b[A\n",
      " 39%|███▉      | 2106189/5374426 [00:06<00:10, 318014.11it/s]\u001b[A\n",
      " 40%|███▉      | 2139755/5374426 [00:06<00:10, 317788.15it/s]\u001b[A\n",
      " 40%|████      | 2172318/5374426 [00:06<00:10, 317777.86it/s]\u001b[A\n",
      " 41%|████      | 2204631/5374426 [00:06<00:09, 317397.28it/s]\u001b[A\n",
      " 42%|████▏     | 2236064/5374426 [00:07<00:09, 316922.71it/s]\u001b[A\n",
      " 42%|████▏     | 2266674/5374426 [00:07<00:09, 316635.61it/s]\u001b[A\n",
      " 43%|████▎     | 2297046/5374426 [00:07<00:09, 316376.39it/s]\u001b[A\n",
      " 43%|████▎     | 2330873/5374426 [00:07<00:09, 316667.82it/s]\u001b[A\n",
      " 44%|████▍     | 2364050/5374426 [00:07<00:09, 316874.28it/s]\u001b[A\n",
      " 45%|████▍     | 2398753/5374426 [00:07<00:09, 317273.22it/s]\u001b[A\n",
      " 45%|████▌     | 2432263/5374426 [00:07<00:09, 317510.40it/s]\u001b[A\n",
      " 46%|████▌     | 2465206/5374426 [00:07<00:09, 317354.60it/s]\u001b[A\n",
      " 46%|████▋     | 2497458/5374426 [00:07<00:09, 316933.04it/s]\u001b[A\n",
      " 47%|████▋     | 2528682/5374426 [00:07<00:08, 316765.59it/s]\u001b[A\n",
      " 48%|████▊     | 2563784/5374426 [00:08<00:08, 317185.77it/s]\u001b[A\n",
      " 48%|████▊     | 2599494/5374426 [00:08<00:08, 317671.61it/s]\u001b[A\n",
      " 49%|████▉     | 2636613/5374426 [00:08<00:08, 318315.31it/s]\u001b[A\n",
      " 50%|████▉     | 2671025/5374426 [00:08<00:08, 318570.80it/s]\u001b[A\n",
      " 50%|█████     | 2705284/5374426 [00:08<00:08, 318032.69it/s]\u001b[A\n",
      " 51%|█████     | 2737689/5374426 [00:08<00:08, 317854.46it/s]\u001b[A\n",
      " 52%|█████▏    | 2769484/5374426 [00:08<00:08, 317360.38it/s]\u001b[A\n",
      " 52%|█████▏    | 2800140/5374426 [00:08<00:08, 317103.65it/s]\u001b[A\n",
      " 53%|█████▎    | 2832271/5374426 [00:08<00:08, 317150.39it/s]\u001b[A\n",
      " 53%|█████▎    | 2864408/5374426 [00:09<00:07, 317184.24it/s]\u001b[A\n",
      " 54%|█████▍    | 2895652/5374426 [00:09<00:07, 317061.16it/s]\u001b[A\n",
      " 54%|█████▍    | 2926690/5374426 [00:09<00:07, 316873.27it/s]\u001b[A\n",
      " 55%|█████▌    | 2961878/5374426 [00:09<00:07, 317254.76it/s]\u001b[A\n",
      " 56%|█████▌    | 2993952/5374426 [00:09<00:07, 317244.42it/s]\u001b[A\n",
      " 56%|█████▋    | 3028779/5374426 [00:09<00:07, 317567.73it/s]\u001b[A\n",
      " 57%|█████▋    | 3061595/5374426 [00:09<00:07, 316980.29it/s]\u001b[A\n",
      " 58%|█████▊    | 3092768/5374426 [00:09<00:07, 316674.97it/s]\u001b[A\n",
      " 58%|█████▊    | 3123177/5374426 [00:09<00:07, 316546.13it/s]\u001b[A\n",
      " 59%|█████▊    | 3154276/5374426 [00:09<00:07, 316492.28it/s]\u001b[A\n",
      " 59%|█████▉    | 3187420/5374426 [00:10<00:06, 316640.58it/s]\u001b[A\n",
      " 60%|█████▉    | 3219866/5374426 [00:10<00:06, 316716.97it/s]\u001b[A\n",
      " 61%|██████    | 3253801/5374426 [00:10<00:06, 316939.03it/s]\u001b[A\n",
      " 61%|██████    | 3286204/5374426 [00:10<00:06, 317006.16it/s]\u001b[A\n",
      " 62%|██████▏   | 3321260/5374426 [00:10<00:06, 317323.35it/s]\u001b[A\n",
      " 62%|██████▏   | 3355446/5374426 [00:10<00:06, 317556.31it/s]\u001b[A\n",
      " 63%|██████▎   | 3388928/5374426 [00:10<00:06, 317526.21it/s]\u001b[A\n",
      " 64%|██████▎   | 3421796/5374426 [00:10<00:06, 317530.65it/s]\u001b[A\n",
      " 64%|██████▍   | 3458849/5374426 [00:10<00:06, 318020.43it/s]\u001b[A\n",
      " 65%|██████▌   | 3494904/5374426 [00:10<00:05, 318403.81it/s]\u001b[A\n",
      " 66%|██████▌   | 3529447/5374426 [00:11<00:05, 318332.11it/s]\u001b[A\n",
      " 66%|██████▋   | 3562954/5374426 [00:11<00:05, 318339.93it/s]\u001b[A\n",
      " 67%|██████▋   | 3597476/5374426 [00:11<00:05, 318576.49it/s]\u001b[A\n",
      " 68%|██████▊   | 3630958/5374426 [00:11<00:05, 318646.10it/s]\u001b[A\n",
      " 68%|██████▊   | 3665182/5374426 [00:11<00:05, 318857.13it/s]\u001b[A\n",
      " 69%|██████▉   | 3698719/5374426 [00:11<00:05, 318920.69it/s]\u001b[A\n",
      " 69%|██████▉   | 3731974/5374426 [00:11<00:05, 318668.04it/s]\u001b[A\n",
      " 70%|███████   | 3764055/5374426 [00:11<00:05, 318610.83it/s]\u001b[A\n",
      " 71%|███████   | 3795879/5374426 [00:11<00:04, 318324.43it/s]\u001b[A\n",
      " 71%|███████   | 3826791/5374426 [00:12<00:04, 318066.95it/s]\u001b[A\n",
      " 72%|███████▏  | 3858221/5374426 [00:12<00:04, 318038.89it/s]\u001b[A\n",
      " 72%|███████▏  | 3893673/5374426 [00:12<00:04, 318324.89it/s]\u001b[A\n",
      " 73%|███████▎  | 3926456/5374426 [00:12<00:04, 318406.41it/s]\u001b[A\n",
      " 74%|███████▎  | 3958981/5374426 [00:12<00:04, 318461.62it/s]\u001b[A\n",
      " 74%|███████▍  | 3994437/5374426 [00:12<00:04, 318755.70it/s]\u001b[A\n",
      " 75%|███████▍  | 4027727/5374426 [00:12<00:04, 318322.10it/s]\u001b[A\n",
      " 76%|███████▌  | 4059239/5374426 [00:12<00:04, 318287.46it/s]\u001b[A\n",
      " 76%|███████▌  | 4091796/5374426 [00:12<00:04, 318342.51it/s]\u001b[A\n",
      " 77%|███████▋  | 4123598/5374426 [00:12<00:03, 318336.23it/s]\u001b[A\n",
      " 77%|███████▋  | 4156724/5374426 [00:13<00:03, 318436.34it/s]\u001b[A\n",
      " 78%|███████▊  | 4194405/5374426 [00:13<00:03, 318881.78it/s]\u001b[A\n",
      " 79%|███████▊  | 4231122/5374426 [00:13<00:03, 319243.08it/s]\u001b[A\n",
      " 79%|███████▉  | 4266346/5374426 [00:13<00:03, 319488.05it/s]\u001b[A\n",
      " 80%|████████  | 4301204/5374426 [00:13<00:03, 319320.76it/s]\u001b[A\n",
      " 81%|████████  | 4334595/5374426 [00:13<00:03, 319279.86it/s]\u001b[A\n",
      " 81%|████████▏ | 4370652/5374426 [00:13<00:03, 319577.51it/s]\u001b[A\n",
      " 82%|████████▏ | 4404823/5374426 [00:13<00:03, 319734.27it/s]\u001b[A\n",
      " 83%|████████▎ | 4441171/5374426 [00:13<00:02, 320042.54it/s]\u001b[A\n",
      " 83%|████████▎ | 4475800/5374426 [00:14<00:02, 319571.08it/s]\u001b[A\n",
      " 84%|████████▍ | 4508061/5374426 [00:14<00:02, 319549.35it/s]\u001b[A\n",
      " 85%|████████▍ | 4541508/5374426 [00:14<00:02, 319656.24it/s]\u001b[A\n",
      " 85%|████████▌ | 4577744/5374426 [00:14<00:02, 319950.89it/s]\u001b[A\n",
      " 86%|████████▌ | 4614278/5374426 [00:14<00:02, 320272.06it/s]\u001b[A\n",
      " 87%|████████▋ | 4649765/5374426 [00:14<00:02, 320505.62it/s]\u001b[A\n",
      " 87%|████████▋ | 4684558/5374426 [00:14<00:02, 320529.46it/s]\u001b[A\n",
      " 88%|████████▊ | 4718609/5374426 [00:14<00:02, 320534.36it/s]\u001b[A\n",
      " 88%|████████▊ | 4753106/5374426 [00:14<00:01, 320698.00it/s]\u001b[A\n",
      " 89%|████████▉ | 4786882/5374426 [00:14<00:01, 320585.50it/s]\u001b[A\n",
      " 90%|████████▉ | 4819691/5374426 [00:15<00:01, 320360.62it/s]\u001b[A\n",
      " 90%|█████████ | 4852465/5374426 [00:15<00:01, 320407.93it/s]\u001b[A\n",
      " 91%|█████████ | 4885259/5374426 [00:15<00:01, 320464.00it/s]\u001b[A\n",
      " 91%|█████████▏| 4917516/5374426 [00:15<00:01, 320083.71it/s]\u001b[A\n",
      " 92%|█████████▏| 4949402/5374426 [00:15<00:01, 320067.03it/s]\u001b[A\n",
      " 93%|█████████▎| 4980468/5374426 [00:15<00:01, 319957.11it/s]\u001b[A\n",
      " 93%|█████████▎| 5011284/5374426 [00:15<00:01, 319569.30it/s]\u001b[A\n",
      " 94%|█████████▍| 5044505/5374426 [00:15<00:01, 319649.47it/s]\u001b[A\n",
      " 94%|█████████▍| 5078106/5374426 [00:15<00:00, 319749.01it/s]\u001b[A\n",
      " 95%|█████████▌| 5112146/5374426 [00:15<00:00, 319879.59it/s]\u001b[A\n",
      " 96%|█████████▌| 5144446/5374426 [00:16<00:00, 319838.87it/s]\u001b[A\n",
      " 96%|█████████▋| 5176968/5374426 [00:16<00:00, 319870.34it/s]\u001b[A\n",
      " 97%|█████████▋| 5209125/5374426 [00:16<00:00, 319728.75it/s]\u001b[A\n",
      " 98%|█████████▊| 5240615/5374426 [00:16<00:00, 319516.71it/s]\u001b[A\n",
      " 98%|█████████▊| 5272401/5374426 [00:16<00:00, 319503.01it/s]\u001b[A\n",
      " 99%|█████████▊| 5305405/5374426 [00:16<00:00, 319565.50it/s]\u001b[A\n",
      " 99%|█████████▉| 5337001/5374426 [00:16<00:00, 319537.18it/s]\u001b[A\n",
      "100%|█████████▉| 5370140/5374426 [00:16<00:00, 319605.97it/s]\u001b[A\n",
      "100%|██████████| 5374426/5374426 [00:16<00:00, 319484.93it/s]\u001b[A"
     ]
    },
    {
     "name": "stdout",
     "output_type": "stream",
     "text": [
      "Average number of old subreddits: 10.3028115002\n",
      "Average number of new subreddits: 1.36328642352\n"
     ]
    }
   ],
   "source": [
    "# Stats on old vs. new\n",
    "oldSubredditNums = []\n",
    "newSubredditNums = []\n",
    "for userId, oldSubreddits in userIdToOldSubreddits.iteritems():\n",
    "    oldSubredditNums.append(len(oldSubreddits))\n",
    "    if userId in userIdToNewSubreddits:\n",
    "        newSubreddits = userIdToNewSubreddits[userId]\n",
    "        newSubredditNum = 0\n",
    "        for subredditId in newSubreddits:\n",
    "            if subredditId not in oldSubreddits:\n",
    "                newSubredditNum += 1\n",
    "        newSubredditNums.append(newSubredditNum)\n",
    "    else:\n",
    "        newSubredditNums.append(0)\n",
    "\n",
    "print \"Average number of old subreddits: {}\".format(sum(oldSubredditNums)/float(len(oldSubredditNums)))\n",
    "print \"Average number of new subreddits: {}\".format(sum(newSubredditNums)/float(len(newSubredditNums)))"
   ]
  },
  {
   "cell_type": "code",
   "execution_count": 12,
   "metadata": {
    "collapsed": true
   },
   "outputs": [],
   "source": [
    "# Graph on old vs. new\n",
    "plt.figure()\n",
    "plt.title(\"new vs. old subreddits\")\n",
    "plt.xlabel(\"old subreddits (Jan to May)\")\n",
    "plt.ylabel(\"new subreddits (June)\")\n",
    "plt.loglog(oldSubredditNums, newSubredditNums, 'b+')\n",
    "plt.grid(True)\n",
    "plt.savefig(\"oldNewSubreddits.png\")"
   ]
  },
  {
   "cell_type": "markdown",
   "metadata": {},
   "source": [
    "##### Distro Analysis"
   ]
  },
  {
   "cell_type": "code",
   "execution_count": 4,
   "metadata": {
    "collapsed": true
   },
   "outputs": [],
   "source": [
    "# Original graph subreddit distro preprocess\n",
    "subredditNums = []\n",
    "for _, subreddits in userIdToOldSubreddits.iteritems():\n",
    "    subredditNums.append(len(subreddits))\n",
    "subredditNums.sort()\n",
    "\n",
    "xs = []\n",
    "ys = []\n",
    "index = -1\n",
    "for subredditNum in subredditNums:\n",
    "    if index == -1 or subredditNum != xs[index]:\n",
    "        xs.append(subredditNum)\n",
    "        ys.append(1)\n",
    "        index += 1\n",
    "    else:\n",
    "        ys[index] += 1"
   ]
  },
  {
   "cell_type": "code",
   "execution_count": 5,
   "metadata": {},
   "outputs": [
    {
     "data": {
      "image/png": "[encoded data removed]",
      "text/plain": [
       "<matplotlib.figure.Figure at 0x7f5c245ece50>"
      ]
     },
     "metadata": {},
     "output_type": "display_data"
    }
   ],
   "source": [
    "# Original graph subreddit distro\n",
    "plt.figure()\n",
    "plt.loglog(xs, ys, \"b+\")\n",
    "plt.show()"
   ]
  },
  {
   "cell_type": "code",
   "execution_count": 6,
   "metadata": {
    "scrolled": true
   },
   "outputs": [
    {
     "data": {
      "image/png": "[encoded data removed]",
      "text/plain": [
       "<matplotlib.figure.Figure at 0x7f5c22007750>"
      ]
     },
     "metadata": {},
     "output_type": "display_data"
    }
   ],
   "source": [
    "# Original graph cdf\n",
    "cumulativeYs = np.cumsum(ys)\n",
    "plt.figure(figsize=(10, 7))\n",
    "plt.title(\"cumulative users by number subreddits commented on\")\n",
    "plt.xlabel(\"number of subreddits\")\n",
    "plt.ylabel(\"users who commented on at most that many subreddits\")\n",
    "plt.loglog(xs, cumulativeYs, \"b-\")\n",
    "plt.grid(True, 'minor')\n",
    "plt.savefig(\"originGraphCUsers.png\")\n",
    "plt.show()"
   ]
  },
  {
   "cell_type": "markdown",
   "metadata": {},
   "source": [
    "##### Transform and save graph"
   ]
  },
  {
   "cell_type": "code",
   "execution_count": 5,
   "metadata": {
    "collapsed": true
   },
   "outputs": [],
   "source": [
    "# Save list of 1-subreddit users to filter out\n",
    "with open('../bigData/analysis/oneSubredditUsers', 'w') as outfile:\n",
    "    for userId, subreddits in userIdToOldSubreddits.iteritems():\n",
    "        if len(subreddits) == 1:\n",
    "            outfile.write(\"{}\\n\".format(userId))\n"
   ]
  },
  {
   "cell_type": "code",
   "execution_count": 3,
   "metadata": {
    "collapsed": true
   },
   "outputs": [],
   "source": [
    "# Builds inputGraph, graph that will be used to evaluate subreddit recommendations\n",
    "with open('../bigData/analysis/inputGraph', 'w') as outfile:\n",
    "    for userId, subreddits in userIdToOldSubreddits.iteritems():\n",
    "        for subreddit, count in subreddits.iteritems():\n",
    "            outfile.write(\"{} {} {}\\n\".format(userId, subreddit, count))"
   ]
  },
  {
   "cell_type": "code",
   "execution_count": 6,
   "metadata": {
    "collapsed": true
   },
   "outputs": [],
   "source": [
    "# Builds actualNewSubreddits, answer key for recommendations, in JSON format\n",
    "# {userId: <string>, newSubreddits: {<stringSubreddit>: <intCount>, ...}}\n",
    "with open('../bigData/analysis/actualNewSubreddits', 'w') as outfile:\n",
    "    for userId, newSubreddits in userIdToNewSubreddits.iteritems():\n",
    "        if userId not in userIdToOldSubreddits:\n",
    "            continue\n",
    "            \n",
    "        userJson = {\"userId\": userId, \"newSubreddits\": []}\n",
    "        for subredditId, count in newSubreddits.iteritems():\n",
    "            if subredditId not in userIdToOldSubreddits[userId]:\n",
    "                userJson[\"newSubreddits\"].append({subredditId: count})\n",
    "        outfile.write(json.dumps(userJson) + \"\\n\")"
   ]
  },
  {
   "cell_type": "markdown",
   "metadata": {},
   "source": [
    "##### Analysis of actualNewSubreddits"
   ]
  },
  {
   "cell_type": "code",
   "execution_count": 3,
   "metadata": {},
   "outputs": [
    {
     "name": "stdout",
     "output_type": "stream",
     "text": [
      "Processed 1000000\n",
      "Processed 2000000\n",
      "Processed 3000000\n"
     ]
    }
   ],
   "source": [
    "# Load\n",
    "actualNewSubreddits = tools.loadNewSubreddits(\"../bigData/analysis/actualNewSubreddits\")"
   ]
  },
  {
   "cell_type": "code",
   "execution_count": 4,
   "metadata": {},
   "outputs": [
    {
     "name": "stdout",
     "output_type": "stream",
     "text": [
      "Active users in June: 3258157\n",
      "Avg new subreddits (among active users in June): 2.24878113608\n"
     ]
    }
   ],
   "source": [
    "# Preprocess\n",
    "subredditNums = []\n",
    "for _, subreddits in actualNewSubreddits.iteritems():\n",
    "    subredditNums.append(len(subreddits))\n",
    "subredditNums.sort()\n",
    "print \"Active users in June: {}\".format(len(actualNewSubreddits))\n",
    "print \"Avg new subreddits (among active users in June): {}\".format(sum(subredditNums)/float(len(subredditNums)))\n",
    "\n",
    "xs = []\n",
    "ys = []\n",
    "index = -1\n",
    "for subredditNum in subredditNums:\n",
    "    if index == -1 or subredditNum != xs[index]:\n",
    "        xs.append(subredditNum)\n",
    "        ys.append(1)\n",
    "        index += 1\n",
    "    else:\n",
    "        ys[index] += 1"
   ]
  },
  {
   "cell_type": "code",
   "execution_count": 6,
   "metadata": {},
   "outputs": [
    {
     "data": {
      "image/png": "[encoded data removed]",
      "text/plain": [
       "<matplotlib.figure.Figure at 0x7f49e902f490>"
      ]
     },
     "metadata": {},
     "output_type": "display_data"
    }
   ],
   "source": [
    "# New subreddits distro\n",
    "plt.figure()\n",
    "plt.loglog(xs, ys, \"b+\")\n",
    "plt.show()"
   ]
  },
  {
   "cell_type": "code",
   "execution_count": 7,
   "metadata": {},
   "outputs": [
    {
     "data": {
      "image/png": "[encoded data removed]",
      "text/plain": [
       "<matplotlib.figure.Figure at 0x7f48dff9a690>"
      ]
     },
     "metadata": {},
     "output_type": "display_data"
    }
   ],
   "source": [
    "# New subreddits CDF\n",
    "cumulativeYs = np.cumsum(ys)\n",
    "plt.figure(figsize=(20, 7))\n",
    "plt.xlabel(\"number of subreddits\")\n",
    "plt.ylabel(\"users who commented on at most that many subreddits\")\n",
    "plt.loglog(xs, cumulativeYs, \"b-\")\n",
    "plt.grid(True, 'minor')\n",
    "plt.show()"
   ]
  },
  {
   "cell_type": "code",
   "execution_count": 10,
   "metadata": {},
   "outputs": [
    {
     "name": "stdout",
     "output_type": "stream",
     "text": [
      "0\n",
      "118620\n",
      "96766\n",
      "136\n",
      "CommonMisspellingBot\n"
     ]
    }
   ],
   "source": [
    "# New subreddits on a line\n",
    "print xs[0]\n",
    "print cumulativeYs[100] - cumulativeYs[9]\n",
    "print len(actualNewSubreddits) - cumulativeYs[10]\n",
    "print len(actualNewSubreddits) - cumulativeYs[100]\n",
    "\n",
    "for userId, subreddits in actualNewSubreddits.iteritems():\n",
    "    if len(subreddits) > 1000:\n",
    "        print userId\n",
    "        break"
   ]
  },
  {
   "cell_type": "code",
   "execution_count": 16,
   "metadata": {
    "collapsed": true
   },
   "outputs": [],
   "source": [
    "# Output some random subset for dev and test.\n",
    "newSubredditsList = [(userId, subreddits) for userId, subreddits in actualNewSubreddits.iteritems()]\n",
    "random.shuffle(newSubredditsList)\n",
    "\n",
    "with open('../bigData/analysis/actualNewSubredditsDev', 'w') as devfile, \\\n",
    "     open('../bigData/analysis/actualNewSubredditsTest', 'w') as testfile:\n",
    "    counter = 0\n",
    "    for userId, subreddits in newSubredditsList:\n",
    "        if len(subreddits) < 10 or len(subreddits) > 100:\n",
    "            continue\n",
    "        \n",
    "        userJson = {\"userId\": userId, \"newSubreddits\": subreddits}\n",
    "        if counter < 100:\n",
    "            devfile.write(json.dumps(userJson) + \"\\n\")\n",
    "        elif counter < 200:\n",
    "            testfile.write(json.dumps(userJson) + \"\\n\")\n",
    "        else:\n",
    "            break\n",
    "        \n",
    "        counter += 1"
   ]
  },
  {
   "cell_type": "markdown",
   "metadata": {},
   "source": [
    "##### Output to prep for collab filtering"
   ]
  },
  {
   "cell_type": "code",
   "execution_count": 4,
   "metadata": {
    "collapsed": true
   },
   "outputs": [],
   "source": [
    "# Output indexToUserId, intended to be indexed 0 to len(indexToUserIds) - 1\n",
    "with open(\"../bigData/analysis/indexToUserId\", 'w') as outfile:\n",
    "    for userId, _ in userIdToOldSubreddits.iteritems():\n",
    "        outfile.write(userId + \"\\n\")"
   ]
  },
  {
   "cell_type": "code",
   "execution_count": 7,
   "metadata": {},
   "outputs": [
    {
     "name": "stdout",
     "output_type": "stream",
     "text": [
      "Done Generating\n",
      "Done Outputting\n"
     ]
    }
   ],
   "source": [
    "# Output subredditVectors, each subreddit represented by list of userIds that commented\n",
    "# Format is json: {<subredditId>: [<userIdIndex>, ...]}\n",
    "indexToUserId, userIdToIndex = tools.loadIndexToUserId(\"../bigData/analysis/indexToUserId\")\n",
    "subredditVectors = collections.defaultdict(list)\n",
    "for userId, subreddits in userIdToOldSubreddits.iteritems():\n",
    "    for subreddit in subreddits:\n",
    "        subredditVectors[subreddit].append(userIdToIndex[userId])\n",
    "print \"Done Generating\"        \n",
    "\n",
    "with open(\"../bigData/analysis/subredditVectors\", 'w') as outfile:\n",
    "    for subreddit, subredditVector in subredditVectors.iteritems():\n",
    "        subredditJson = {}\n",
    "        subredditVector.sort()\n",
    "        subredditJson[subreddit] = subredditVector\n",
    "        outfile.write(json.dumps(subredditJson) + \"\\n\")\n",
    "print \"Done Outputting\""
   ]
  },
  {
   "cell_type": "code",
   "execution_count": 3,
   "metadata": {
    "collapsed": true
   },
   "outputs": [],
   "source": [
    "# Modify dev to include the user old subreddits as well\n",
    "actualNewSubredditsDev = tools.loadNewSubreddits(\"../bigData/analysis/actualNewSubredditsDev\")\n",
    "\n",
    "with open('../bigData/analysis/oldSubredditsDev', 'w') as outfile:\n",
    "    for userId in actualNewSubredditsDev:\n",
    "        oldSubredditList = [subreddit for subreddit in userIdToOldSubreddits[userId]]\n",
    "        userJson = {\"userId\": userId, \"oldSubreddits\": oldSubredditList}\n",
    "        outfile.write(json.dumps(userJson) + \"\\n\")"
   ]
  },
  {
   "cell_type": "markdown",
   "metadata": {},
   "source": [
    "##### Analysis of how many users per subreddit"
   ]
  },
  {
   "cell_type": "code",
   "execution_count": 3,
   "metadata": {},
   "outputs": [],
   "source": [
    "# Load the subredditVectors\n",
    "subredditVectors = tools.loadSubredditVectors(\"../bigData/analysis/subredditVectors\")"
   ]
  },
  {
   "cell_type": "code",
   "execution_count": 4,
   "metadata": {},
   "outputs": [
    {
     "name": "stdout",
     "output_type": "stream",
     "text": [
      "Number of subreddits Jan to May: 143888\n",
      "Avg users per subreddit: 384.82498888\n"
     ]
    }
   ],
   "source": [
    "# Preprocess\n",
    "userNums = []\n",
    "for _, users in subredditVectors.iteritems():\n",
    "    userNums.append(len(users))\n",
    "userNums.sort()\n",
    "print \"Number of subreddits Jan to May: {}\".format(len(userNums))\n",
    "print \"Avg users per subreddit: {}\".format(sum(userNums)/float(len(userNums)))\n",
    "\n",
    "xs = []\n",
    "ys = []\n",
    "index = -1\n",
    "for userNum in userNums:\n",
    "    if index == -1 or userNum != xs[index]:\n",
    "        xs.append(userNum)\n",
    "        ys.append(1)\n",
    "        index += 1\n",
    "    else:\n",
    "        ys[index] += 1"
   ]
  },
  {
   "cell_type": "code",
   "execution_count": 5,
   "metadata": {},
   "outputs": [
    {
     "data": {
      "image/png": "[encoded data removed]",
      "text/plain": [
       "<matplotlib.figure.Figure at 0x7f5c69164090>"
      ]
     },
     "metadata": {},
     "output_type": "display_data"
    }
   ],
   "source": [
    "# Users per old subreddit distro\n",
    "plt.figure()\n",
    "plt.loglog(xs, ys, \"b+\")\n",
    "plt.show()"
   ]
  },
  {
   "cell_type": "code",
   "execution_count": 7,
   "metadata": {},
   "outputs": [
    {
     "data": {
      "image/png": "[encoded data removed]",
      "text/plain": [
       "<matplotlib.figure.Figure at 0x7f5c5f357810>"
      ]
     },
     "metadata": {},
     "output_type": "display_data"
    }
   ],
   "source": [
    "# Users per old subreddit CDF\n",
    "cumulativeYs = np.cumsum(ys)\n",
    "plt.figure(figsize=(10, 7))\n",
    "plt.title(\"cumulative subreddits by number users commented on\")\n",
    "plt.xlabel(\"number of users\")\n",
    "plt.ylabel(\"subreddits commented on by at most that many users\")\n",
    "plt.loglog(xs, cumulativeYs, \"b-\")\n",
    "plt.grid(True, 'minor')\n",
    "plt.savefig(\"graphCSubreddits.png\")\n",
    "plt.show()"
   ]
  },
  {
   "cell_type": "code",
   "execution_count": 8,
   "metadata": {},
   "outputs": [
    {
     "name": "stdout",
     "output_type": "stream",
     "text": [
      "Processed 1000000\n",
      "Processed 2000000\n",
      "Processed 3000000\n"
     ]
    }
   ],
   "source": [
    "# Load actual new subreddits\n",
    "actualNewSubreddits = tools.loadNewSubreddits(\"../bigData/analysis/actualNewSubreddits\")"
   ]
  },
  {
   "cell_type": "code",
   "execution_count": 9,
   "metadata": {},
   "outputs": [
    {
     "name": "stdout",
     "output_type": "stream",
     "text": [
      "Total subreddits: 68020\n"
     ]
    }
   ],
   "source": [
    "# Flip to subredditId -> numUsers\n",
    "newSubredditNumUsers = collections.defaultdict(int)\n",
    "for userId, newSubreddits in actualNewSubreddits.iteritems():\n",
    "    for newSubredditDict in newSubreddits:\n",
    "        newSubreddit = newSubredditDict.keys()[0]\n",
    "        newSubredditNumUsers[newSubreddit] += 1\n",
    "print \"Total subreddits: {}\".format(len(newSubredditNumUsers))"
   ]
  },
  {
   "cell_type": "code",
   "execution_count": 10,
   "metadata": {},
   "outputs": [
    {
     "name": "stdout",
     "output_type": "stream",
     "text": [
      "Total buckets: 4672\n",
      "Total new user-subreddit interactions: 7266383\n"
     ]
    }
   ],
   "source": [
    "# Plot users 6th month against users in the last 5\n",
    "# ie, with all subreddits with 1 user in last 5, how many total interactions in 6th month?\n",
    "userNums = []\n",
    "for subredditId, users in subredditVectors.iteritems():\n",
    "    userNums.append((len(users), subredditId))\n",
    "userNums.sort()\n",
    "\n",
    "xs = []\n",
    "ys = []\n",
    "index = -1\n",
    "for userNum, subredditId in userNums:\n",
    "    if index == -1 or userNum != xs[index]:\n",
    "        xs.append(userNum)\n",
    "        ys.append(newSubredditNumUsers[subredditId])\n",
    "        index += 1\n",
    "    else:\n",
    "        ys[index] += newSubredditNumUsers[subredditId]\n",
    "print \"Total buckets: {}\".format(len(xs))\n",
    "print \"Total new user-subreddit interactions: {}\".format(sum(ys))"
   ]
  },
  {
   "cell_type": "code",
   "execution_count": 11,
   "metadata": {},
   "outputs": [
    {
     "data": {
      "image/png": "[encoded data removed]",
      "text/plain": [
       "<matplotlib.figure.Figure at 0x7f5b84f2dc50>"
      ]
     },
     "metadata": {},
     "output_type": "display_data"
    }
   ],
   "source": [
    "# Users interactions 6th month against users in last 5 Distro\n",
    "plt.figure()\n",
    "plt.loglog(xs, ys, \"b+\")\n",
    "plt.show()"
   ]
  },
  {
   "cell_type": "code",
   "execution_count": 12,
   "metadata": {},
   "outputs": [
    {
     "data": {
      "image/png": "[encoded data removed]",
      "text/plain": [
       "<matplotlib.figure.Figure at 0x7f5b842e2f50>"
      ]
     },
     "metadata": {},
     "output_type": "display_data"
    }
   ],
   "source": [
    "# Users interactions 6th month against users in last 5 Cumulative\n",
    "cumulativeYs = np.cumsum(ys)\n",
    "plt.figure(figsize=(10, 7))\n",
    "plt.title(\"subreddit users in June vs. users in Jan to May\")\n",
    "plt.xlabel(\"number of users from Jan to May\")\n",
    "plt.ylabel(\"cumulative number of users in June\")\n",
    "plt.loglog(xs, cumulativeYs, \"b-\")\n",
    "plt.grid(True, 'minor')\n",
    "plt.savefig(\"graphCJtJ.png\")\n",
    "plt.show()"
   ]
  },
  {
   "cell_type": "markdown",
   "metadata": {},
   "source": [
    "##### Process Alexis Dev Set"
   ]
  },
  {
   "cell_type": "code",
   "execution_count": 3,
   "metadata": {
    "collapsed": true
   },
   "outputs": [],
   "source": [
    "# Modify dev to include the user old subreddits as well\n",
    "alexisDevSet = tools.loadNewSubreddits(\"../bigData/analysis/alexisDevSet\")\n",
    "\n",
    "with open('../bigData/analysis/alexDevOld', 'w') as outfile:\n",
    "    for userId in alexisDevSet:\n",
    "        oldSubredditList = [subreddit for subreddit in userIdToOldSubreddits[userId]]\n",
    "        userJson = {\"userId\": userId, \"oldSubreddits\": oldSubredditList}\n",
    "        outfile.write(json.dumps(userJson) + \"\\n\")"
   ]
  },
  {
   "cell_type": "code",
   "execution_count": null,
   "metadata": {
    "collapsed": true
   },
   "outputs": [],
   "source": []
  }
 ],
 "metadata": {
  "kernelspec": {
   "display_name": "Python 2",
   "language": "python",
   "name": "python2"
  },
  "language_info": {
   "codemirror_mode": {
    "name": "ipython",
    "version": 2
   },
   "file_extension": ".py",
   "mimetype": "text/x-python",
   "name": "python",
   "nbconvert_exporter": "python",
   "pygments_lexer": "ipython2",
   "version": "2.7.14"
  }
 },
 "nbformat": 4,
 "nbformat_minor": 2
}
